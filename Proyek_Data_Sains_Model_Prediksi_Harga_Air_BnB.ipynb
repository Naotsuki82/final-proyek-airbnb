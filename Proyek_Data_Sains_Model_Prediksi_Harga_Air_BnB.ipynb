{
  "nbformat": 4,
  "nbformat_minor": 0,
  "metadata": {
    "colab": {
      "provenance": []
    },
    "kernelspec": {
      "name": "python3",
      "display_name": "Python 3"
    },
    "language_info": {
      "name": "python"
    }
  },
  "cells": [
    {
      "cell_type": "markdown",
      "source": [
        "Final Proyek Sains Data\n",
        "-  Joseph Honesty Ambanaga (IF22G) 22416255201043\n",
        "- Cliff Jordan Jonah Amabanaga (IF22G) 22416255201123"
      ],
      "metadata": {
        "id": "YHFOPiw9purH"
      }
    },
    {
      "cell_type": "code",
      "source": [
        "# BAGIAN 1: SETUP, PRA-PEMROSESAN, DAN VISUALISASI\n",
        "# --- 1.1 Import Library yang Dibutuhkan ---\n",
        "import pandas as pd\n",
        "import numpy as np\n",
        "import matplotlib.pyplot as plt\n",
        "import seaborn as sns\n",
        "import joblib\n",
        "import json\n",
        "from sklearn.model_selection import train_test_split\n",
        "from sklearn.preprocessing import StandardScaler\n",
        "from sklearn.linear_model import Lasso, Ridge, LinearRegression\n",
        "from sklearn.feature_selection import SelectFromModel\n",
        "from sklearn.ensemble import RandomForestRegressor\n",
        "from xgboost import XGBRegressor\n",
        "from lightgbm import LGBMRegressor\n",
        "from sklearn.metrics import r2_score, mean_absolute_error, mean_squared_error"
      ],
      "metadata": {
        "id": "9yWgZmnWPP0Q"
      },
      "execution_count": 104,
      "outputs": []
    },
    {
      "cell_type": "code",
      "source": [
        "# Ini adalah data mentah yang kami gunakan, DataFrame yang pertama kali dimuat dari file CSV. Isinya masih belum diproses—memiliki banyak kolom yang tidak relevan, nilai yang hilang (NaN), tipe data yang salah (misalnya, harga sebagai teks), dan outlier.\n",
        "df = pd.read_csv('listings.csv')\n",
        "\n",
        "# 1. Tampilkan 5 baris pertama data\n",
        "print(\"Lima baris pertama (df.head()):\")\n",
        "print(df.head())\n",
        "\n",
        "# 2. Tampilkan daftar semua kolom\n",
        "print(\"\\nDaftar Kolom (df.columns):\")\n",
        "print(df.columns)\n",
        "\n",
        "# 3. Tampilkan informasi tipe data dan nilai yang hilang (missing values)\n",
        "print(\"\\nInformasi Data (df.info()):\")\n",
        "df.info()"
      ],
      "metadata": {
        "colab": {
          "base_uri": "https://localhost:8080/"
        },
        "id": "5jl_eKUaOwGo",
        "outputId": "8efeac6a-b6f1-4de9-8d3e-627fa617cdae"
      },
      "execution_count": 105,
      "outputs": [
        {
          "output_type": "stream",
          "name": "stdout",
          "text": [
            "Lima baris pertama (df.head()):\n",
            "     id                        listing_url       scrape_id last_scraped  \\\n",
            "0  2539  https://www.airbnb.com/rooms/2539  20250617032754   2025-06-17   \n",
            "1  2595  https://www.airbnb.com/rooms/2595  20250617032754   2025-06-17   \n",
            "2  5136  https://www.airbnb.com/rooms/5136  20250617032754   2025-06-17   \n",
            "3  6848  https://www.airbnb.com/rooms/6848  20250617032754   2025-06-17   \n",
            "4  6872  https://www.airbnb.com/rooms/6872  20250617032754   2025-06-17   \n",
            "\n",
            "            source                                               name  \\\n",
            "0      city scrape   Superfast Wi-Fi.  Clean & quiet home by the park   \n",
            "1      city scrape           Skylit Midtown Manhattan Spacious Studio   \n",
            "2      city scrape    Spacious Family Friendly Duplex w/ Patio + Yard   \n",
            "3      city scrape                   Only 2 stops to Manhattan studio   \n",
            "4  previous scrape  Uptown Sanctuary w/ Private Bath (Month to Month)   \n",
            "\n",
            "                                         description  \\\n",
            "0  Bright, serene room in a renovated apartment h...   \n",
            "1  Beautiful, spacious skylit studio in the heart...   \n",
            "2  We welcome you to stay in our lovely 2 br, 130...   \n",
            "3  Comfortable studio apartment with super comfor...   \n",
            "4  This charming distancing-friendly month-to-mon...   \n",
            "\n",
            "                               neighborhood_overview  \\\n",
            "0    Close to Prospect Park and Historic Ditmas Park   \n",
            "1  Centrally located in the heart of Manhattan ju...   \n",
            "2                                                NaN   \n",
            "3                                                NaN   \n",
            "4  This sweet Harlem sanctuary is a 10-20 minute ...   \n",
            "\n",
            "                                         picture_url  host_id  ...  \\\n",
            "0  https://a0.muscache.com/pictures/hosting/Hosti...     2787  ...   \n",
            "1  https://a0.muscache.com/pictures/hosting/Hosti...     2845  ...   \n",
            "2  https://a0.muscache.com/pictures/miso/Hosting-...     7378  ...   \n",
            "3  https://a0.muscache.com/pictures/e4f031a7-f146...    15991  ...   \n",
            "4  https://a0.muscache.com/pictures/miso/Hosting-...    16104  ...   \n",
            "\n",
            "  review_scores_communication review_scores_location review_scores_value  \\\n",
            "0                         5.0                   4.75                4.88   \n",
            "1                         4.8                   4.81                4.40   \n",
            "2                         5.0                   4.75                4.75   \n",
            "3                         4.8                   4.69                4.58   \n",
            "4                         5.0                   5.00                5.00   \n",
            "\n",
            "  license instant_bookable calculated_host_listings_count  \\\n",
            "0     NaN                f                              6   \n",
            "1     NaN                f                              3   \n",
            "2     NaN                t                              1   \n",
            "3     NaN                f                              1   \n",
            "4     NaN                f                              2   \n",
            "\n",
            "  calculated_host_listings_count_entire_homes  \\\n",
            "0                                           1   \n",
            "1                                           3   \n",
            "2                                           1   \n",
            "3                                           1   \n",
            "4                                           0   \n",
            "\n",
            "  calculated_host_listings_count_private_rooms  \\\n",
            "0                                            5   \n",
            "1                                            0   \n",
            "2                                            0   \n",
            "3                                            0   \n",
            "4                                            2   \n",
            "\n",
            "  calculated_host_listings_count_shared_rooms reviews_per_month  \n",
            "0                                           0              0.08  \n",
            "1                                           0              0.26  \n",
            "2                                           0              0.03  \n",
            "3                                           0              1.00  \n",
            "4                                           0              0.03  \n",
            "\n",
            "[5 rows x 79 columns]\n",
            "\n",
            "Daftar Kolom (df.columns):\n",
            "Index(['id', 'listing_url', 'scrape_id', 'last_scraped', 'source', 'name',\n",
            "       'description', 'neighborhood_overview', 'picture_url', 'host_id',\n",
            "       'host_url', 'host_name', 'host_since', 'host_location', 'host_about',\n",
            "       'host_response_time', 'host_response_rate', 'host_acceptance_rate',\n",
            "       'host_is_superhost', 'host_thumbnail_url', 'host_picture_url',\n",
            "       'host_neighbourhood', 'host_listings_count',\n",
            "       'host_total_listings_count', 'host_verifications',\n",
            "       'host_has_profile_pic', 'host_identity_verified', 'neighbourhood',\n",
            "       'neighbourhood_cleansed', 'neighbourhood_group_cleansed', 'latitude',\n",
            "       'longitude', 'property_type', 'room_type', 'accommodates', 'bathrooms',\n",
            "       'bathrooms_text', 'bedrooms', 'beds', 'amenities', 'price',\n",
            "       'minimum_nights', 'maximum_nights', 'minimum_minimum_nights',\n",
            "       'maximum_minimum_nights', 'minimum_maximum_nights',\n",
            "       'maximum_maximum_nights', 'minimum_nights_avg_ntm',\n",
            "       'maximum_nights_avg_ntm', 'calendar_updated', 'has_availability',\n",
            "       'availability_30', 'availability_60', 'availability_90',\n",
            "       'availability_365', 'calendar_last_scraped', 'number_of_reviews',\n",
            "       'number_of_reviews_ltm', 'number_of_reviews_l30d', 'availability_eoy',\n",
            "       'number_of_reviews_ly', 'estimated_occupancy_l365d',\n",
            "       'estimated_revenue_l365d', 'first_review', 'last_review',\n",
            "       'review_scores_rating', 'review_scores_accuracy',\n",
            "       'review_scores_cleanliness', 'review_scores_checkin',\n",
            "       'review_scores_communication', 'review_scores_location',\n",
            "       'review_scores_value', 'license', 'instant_bookable',\n",
            "       'calculated_host_listings_count',\n",
            "       'calculated_host_listings_count_entire_homes',\n",
            "       'calculated_host_listings_count_private_rooms',\n",
            "       'calculated_host_listings_count_shared_rooms', 'reviews_per_month'],\n",
            "      dtype='object')\n",
            "\n",
            "Informasi Data (df.info()):\n",
            "<class 'pandas.core.frame.DataFrame'>\n",
            "RangeIndex: 36322 entries, 0 to 36321\n",
            "Data columns (total 79 columns):\n",
            " #   Column                                        Non-Null Count  Dtype  \n",
            "---  ------                                        --------------  -----  \n",
            " 0   id                                            36322 non-null  int64  \n",
            " 1   listing_url                                   36322 non-null  object \n",
            " 2   scrape_id                                     36322 non-null  int64  \n",
            " 3   last_scraped                                  36322 non-null  object \n",
            " 4   source                                        36322 non-null  object \n",
            " 5   name                                          36320 non-null  object \n",
            " 6   description                                   35374 non-null  object \n",
            " 7   neighborhood_overview                         19084 non-null  object \n",
            " 8   picture_url                                   36322 non-null  object \n",
            " 9   host_id                                       36322 non-null  int64  \n",
            " 10  host_url                                      36322 non-null  object \n",
            " 11  host_name                                     36307 non-null  object \n",
            " 12  host_since                                    36307 non-null  object \n",
            " 13  host_location                                 28913 non-null  object \n",
            " 14  host_about                                    20956 non-null  object \n",
            " 15  host_response_time                            21550 non-null  object \n",
            " 16  host_response_rate                            21550 non-null  object \n",
            " 17  host_acceptance_rate                          21720 non-null  object \n",
            " 18  host_is_superhost                             35830 non-null  object \n",
            " 19  host_thumbnail_url                            36307 non-null  object \n",
            " 20  host_picture_url                              36307 non-null  object \n",
            " 21  host_neighbourhood                            29034 non-null  object \n",
            " 22  host_listings_count                           36307 non-null  float64\n",
            " 23  host_total_listings_count                     36307 non-null  float64\n",
            " 24  host_verifications                            36307 non-null  object \n",
            " 25  host_has_profile_pic                          36307 non-null  object \n",
            " 26  host_identity_verified                        36307 non-null  object \n",
            " 27  neighbourhood                                 19085 non-null  object \n",
            " 28  neighbourhood_cleansed                        36322 non-null  object \n",
            " 29  neighbourhood_group_cleansed                  36322 non-null  object \n",
            " 30  latitude                                      36322 non-null  float64\n",
            " 31  longitude                                     36322 non-null  float64\n",
            " 32  property_type                                 36322 non-null  object \n",
            " 33  room_type                                     36322 non-null  object \n",
            " 34  accommodates                                  36322 non-null  int64  \n",
            " 35  bathrooms                                     21682 non-null  float64\n",
            " 36  bathrooms_text                                36286 non-null  object \n",
            " 37  bedrooms                                      30274 non-null  float64\n",
            " 38  beds                                          21620 non-null  float64\n",
            " 39  amenities                                     36322 non-null  object \n",
            " 40  price                                         21459 non-null  object \n",
            " 41  minimum_nights                                36322 non-null  int64  \n",
            " 42  maximum_nights                                36322 non-null  int64  \n",
            " 43  minimum_minimum_nights                        36322 non-null  int64  \n",
            " 44  maximum_minimum_nights                        36322 non-null  int64  \n",
            " 45  minimum_maximum_nights                        36322 non-null  int64  \n",
            " 46  maximum_maximum_nights                        36322 non-null  int64  \n",
            " 47  minimum_nights_avg_ntm                        36322 non-null  float64\n",
            " 48  maximum_nights_avg_ntm                        36322 non-null  float64\n",
            " 49  calendar_updated                              0 non-null      float64\n",
            " 50  has_availability                              30705 non-null  object \n",
            " 51  availability_30                               36322 non-null  int64  \n",
            " 52  availability_60                               36322 non-null  int64  \n",
            " 53  availability_90                               36322 non-null  int64  \n",
            " 54  availability_365                              36322 non-null  int64  \n",
            " 55  calendar_last_scraped                         36322 non-null  object \n",
            " 56  number_of_reviews                             36322 non-null  int64  \n",
            " 57  number_of_reviews_ltm                         36322 non-null  int64  \n",
            " 58  number_of_reviews_l30d                        36322 non-null  int64  \n",
            " 59  availability_eoy                              36322 non-null  int64  \n",
            " 60  number_of_reviews_ly                          36322 non-null  int64  \n",
            " 61  estimated_occupancy_l365d                     36322 non-null  int64  \n",
            " 62  estimated_revenue_l365d                       21459 non-null  float64\n",
            " 63  first_review                                  25171 non-null  object \n",
            " 64  last_review                                   25171 non-null  object \n",
            " 65  review_scores_rating                          25171 non-null  float64\n",
            " 66  review_scores_accuracy                        25161 non-null  float64\n",
            " 67  review_scores_cleanliness                     25170 non-null  float64\n",
            " 68  review_scores_checkin                         25157 non-null  float64\n",
            " 69  review_scores_communication                   25165 non-null  float64\n",
            " 70  review_scores_location                        25154 non-null  float64\n",
            " 71  review_scores_value                           25155 non-null  float64\n",
            " 72  license                                       5329 non-null   object \n",
            " 73  instant_bookable                              36322 non-null  object \n",
            " 74  calculated_host_listings_count                36322 non-null  int64  \n",
            " 75  calculated_host_listings_count_entire_homes   36322 non-null  int64  \n",
            " 76  calculated_host_listings_count_private_rooms  36322 non-null  int64  \n",
            " 77  calculated_host_listings_count_shared_rooms   36322 non-null  int64  \n",
            " 78  reviews_per_month                             25171 non-null  float64\n",
            "dtypes: float64(19), int64(24), object(36)\n",
            "memory usage: 21.9+ MB\n"
          ]
        }
      ]
    },
    {
      "cell_type": "code",
      "source": [
        "# --- 1.2 Konfigurasi Awal & Pra-pemrosesan ---\n",
        "# Atur gaya plot\n",
        "sns.set_style('whitegrid')\n",
        "\n",
        "#'df' adalah DataFrame awal Anda yang sudah dimuat\n",
        "df_processed = df.copy()\n",
        "\n",
        "# --- Visualisasi Harga Awal ---\n",
        "price_temp = pd.to_numeric(df_processed['price'].str.replace('[\\$,]', '', regex=True), errors='coerce')\n",
        "\n",
        "#memunculkan tabel histogram 'price' data asli\n",
        "plt.figure(figsize=(12, 6))\n",
        "sns.histplot(price_temp.dropna(), bins=100, kde=False)\n",
        "plt.title('Distribusi Harga Awal (Histogram)')\n",
        "plt.xlabel('Harga ($)')\n",
        "plt.show()\n",
        "\n",
        "print(\"\")\n",
        "\n",
        "plt.figure(figsize=(12, 6))\n",
        "sns.boxplot(x=price_temp.dropna())\n",
        "plt.title('Boxplot Harga Awal (Sebelum Menghilangkan Outlier)')\n",
        "plt.xlabel('Harga ($)')\n",
        "plt.show()"
      ],
      "metadata": {
        "colab": {
          "base_uri": "https://localhost:8080/",
          "height": 1000
        },
        "id": "oulXS_17PUEO",
        "outputId": "3263021a-f7e7-4699-cacf-5f4208ff210e"
      },
      "execution_count": 106,
      "outputs": [
        {
          "output_type": "display_data",
          "data": {
            "text/plain": [
              "<Figure size 1200x600 with 1 Axes>"
            ],
            "image/png": "[encoded data removed]"
          },
          "metadata": {}
        },
        {
          "output_type": "stream",
          "name": "stdout",
          "text": [
            "\n"
          ]
        },
        {
          "output_type": "display_data",
          "data": {
            "text/plain": [
              "<Figure size 1200x600 with 1 Axes>"
            ],
            "image/png": "[encoded data removed]"
          },
          "metadata": {}
        }
      ]
    },
    {
      "cell_type": "code",
      "source": [
        "# --- Daftar kolom untuk diproses ---\n",
        "\n",
        "# COLS_TO_DROP adalah kolom yang kami drop manual karena kami anggap tidak penting/tidak berpengaruh terhadap harga\n",
        "COLS_TO_DROP = [\n",
        "    'listing_url', 'scrape_id', 'picture_url', 'host_url', 'host_id', 'host_thumbnail_url',\n",
        "    'host_picture_url', 'name', 'description', 'neighborhood_overview', 'host_about',\n",
        "    'host_name', 'source', 'license', 'calendar_updated', 'neighbourhood', 'bathrooms',\n",
        "    'host_location', 'host_listings_count', 'bathrooms_text', 'last_scraped',\n",
        "    'host_since', 'first_review', 'last_review', 'calendar_last_scraped',\n",
        "    'amenities', 'host_verifications'\n",
        "]\n",
        "\n",
        "# PERCENT_COLS adalah kolom yang memiliki data dengan nilai persentase\n",
        "PERCENT_COLS = ['host_response_rate', 'host_acceptance_rate']\n",
        "\n",
        "# BOOL_COLS adalah kolom yang berisi data dengan nilai boolena (yes/no)\n",
        "BOOL_COLS = [\n",
        "    'host_is_superhost', 'host_has_profile_pic', 'host_identity_verified',\n",
        "    'has_availability', 'instant_bookable'\n",
        "]"
      ],
      "metadata": {
        "id": "wdNpEL8SQQHk"
      },
      "execution_count": 107,
      "outputs": []
    },
    {
      "cell_type": "code",
      "source": [
        "# --- Menjalankan Pra-pemrosesan ---\n",
        "# membuang kolom tidak relevan\n",
        "cols_exist_in_df = [col for col in COLS_TO_DROP if col in df_processed.columns]\n",
        "df_processed = df_processed.drop(columns=cols_exist_in_df)\n",
        "\n",
        "# disini kami membersihkan dan mentransformasi Harga (Termasuk Menghilangkan Outlier)\n",
        "df_processed.dropna(subset=['price'], inplace=True)\n",
        "df_processed['price'] = df_processed['price'].str.replace('$', '', regex=False).str.replace(',', '', regex=False).astype(float) #menghilangkan tanda '$' dan ',' agar data price menjadi numerik\n",
        "price_percentile = df_processed['price'].quantile(0.99) #membuang 1% data harga teratas (outlier) karena dapat mengganggu pemodelan\n",
        "df_processed = df_processed[(df_processed['price'] > 0) & (df_processed['price'] <= price_percentile)]\n",
        "\n",
        "# berikut hasil pengecekan data\n",
        "print(\"\\nInformasi Data (df.info()):\")\n",
        "df_processed.info()"
      ],
      "metadata": {
        "colab": {
          "base_uri": "https://localhost:8080/"
        },
        "id": "QqJPmRwoPt5g",
        "outputId": "b6743b4e-46c0-4041-cfc6-e93861405601"
      },
      "execution_count": 108,
      "outputs": [
        {
          "output_type": "stream",
          "name": "stdout",
          "text": [
            "\n",
            "Informasi Data (df.info()):\n",
            "<class 'pandas.core.frame.DataFrame'>\n",
            "Index: 21244 entries, 0 to 36321\n",
            "Data columns (total 52 columns):\n",
            " #   Column                                        Non-Null Count  Dtype  \n",
            "---  ------                                        --------------  -----  \n",
            " 0   id                                            21244 non-null  int64  \n",
            " 1   host_response_time                            18037 non-null  object \n",
            " 2   host_response_rate                            18037 non-null  object \n",
            " 3   host_acceptance_rate                          17875 non-null  object \n",
            " 4   host_is_superhost                             20850 non-null  object \n",
            " 5   host_neighbourhood                            17005 non-null  object \n",
            " 6   host_total_listings_count                     21239 non-null  float64\n",
            " 7   host_has_profile_pic                          21239 non-null  object \n",
            " 8   host_identity_verified                        21239 non-null  object \n",
            " 9   neighbourhood_cleansed                        21244 non-null  object \n",
            " 10  neighbourhood_group_cleansed                  21244 non-null  object \n",
            " 11  latitude                                      21244 non-null  float64\n",
            " 12  longitude                                     21244 non-null  float64\n",
            " 13  property_type                                 21244 non-null  object \n",
            " 14  room_type                                     21244 non-null  object \n",
            " 15  accommodates                                  21244 non-null  int64  \n",
            " 16  bedrooms                                      21162 non-null  float64\n",
            " 17  beds                                          21197 non-null  float64\n",
            " 18  price                                         21244 non-null  float64\n",
            " 19  minimum_nights                                21244 non-null  int64  \n",
            " 20  maximum_nights                                21244 non-null  int64  \n",
            " 21  minimum_minimum_nights                        21244 non-null  int64  \n",
            " 22  maximum_minimum_nights                        21244 non-null  int64  \n",
            " 23  minimum_maximum_nights                        21244 non-null  int64  \n",
            " 24  maximum_maximum_nights                        21244 non-null  int64  \n",
            " 25  minimum_nights_avg_ntm                        21244 non-null  float64\n",
            " 26  maximum_nights_avg_ntm                        21244 non-null  float64\n",
            " 27  has_availability                              21002 non-null  object \n",
            " 28  availability_30                               21244 non-null  int64  \n",
            " 29  availability_60                               21244 non-null  int64  \n",
            " 30  availability_90                               21244 non-null  int64  \n",
            " 31  availability_365                              21244 non-null  int64  \n",
            " 32  number_of_reviews                             21244 non-null  int64  \n",
            " 33  number_of_reviews_ltm                         21244 non-null  int64  \n",
            " 34  number_of_reviews_l30d                        21244 non-null  int64  \n",
            " 35  availability_eoy                              21244 non-null  int64  \n",
            " 36  number_of_reviews_ly                          21244 non-null  int64  \n",
            " 37  estimated_occupancy_l365d                     21244 non-null  int64  \n",
            " 38  estimated_revenue_l365d                       21244 non-null  float64\n",
            " 39  review_scores_rating                          15088 non-null  float64\n",
            " 40  review_scores_accuracy                        15088 non-null  float64\n",
            " 41  review_scores_cleanliness                     15088 non-null  float64\n",
            " 42  review_scores_checkin                         15088 non-null  float64\n",
            " 43  review_scores_communication                   15088 non-null  float64\n",
            " 44  review_scores_location                        15088 non-null  float64\n",
            " 45  review_scores_value                           15088 non-null  float64\n",
            " 46  instant_bookable                              21244 non-null  object \n",
            " 47  calculated_host_listings_count                21244 non-null  int64  \n",
            " 48  calculated_host_listings_count_entire_homes   21244 non-null  int64  \n",
            " 49  calculated_host_listings_count_private_rooms  21244 non-null  int64  \n",
            " 50  calculated_host_listings_count_shared_rooms   21244 non-null  int64  \n",
            " 51  reviews_per_month                             15088 non-null  float64\n",
            "dtypes: float64(17), int64(22), object(13)\n",
            "memory usage: 8.6+ MB\n"
          ]
        }
      ]
    },
    {
      "cell_type": "code",
      "source": [
        "# --- Visualisasi Harga Setelah Dibersihkan ---\n",
        "print(\"\\nMembuat visualisasi setelah menghilangkan harga ekstrem...\")\n",
        "plt.figure(figsize=(12, 5))\n",
        "sns.boxplot(x=df_processed['price'])\n",
        "plt.title('Boxplot Harga Setelah Menghilangkan Harga Ekstrem')\n",
        "plt.xlabel('Harga ($)')\n",
        "plt.show()"
      ],
      "metadata": {
        "colab": {
          "base_uri": "https://localhost:8080/",
          "height": 522
        },
        "id": "NhzOZfNQQfWt",
        "outputId": "28ab6856-818a-4e72-9490-3dbceafbe88e"
      },
      "execution_count": 109,
      "outputs": [
        {
          "output_type": "stream",
          "name": "stdout",
          "text": [
            "\n",
            "Membuat visualisasi setelah menghilangkan harga ekstrem...\n"
          ]
        },
        {
          "output_type": "display_data",
          "data": {
            "text/plain": [
              "<Figure size 1200x500 with 1 Axes>"
            ],
            "image/png": "[encoded data removed]"
          },
          "metadata": {}
        }
      ]
    },
    {
      "cell_type": "code",
      "source": [
        "# Konversi tipe data lainnya\n",
        "\n",
        "# Menggunakan metode re-assignment untuk menghindari FutureWarning dari collab\n",
        "df_processed['reviews_per_month'] = df_processed['reviews_per_month'].fillna(0)\n",
        "numeric_cols = df_processed.select_dtypes(include=np.number).columns.tolist()\n",
        "\n",
        "# Loop untuk mengisi kolom numerik yang barisnya kosong\n",
        "for col in numeric_cols:\n",
        "    if df_processed[col].isnull().any():\n",
        "        median_val = df_processed[col].median()\n",
        "        df_processed.loc[:, col] = df_processed[col].fillna(median_val)\n",
        "\n",
        "# Loop untuk mengisi kolom kategorikal yang barisnya kosong\n",
        "categorical_cols = df_processed.select_dtypes(include='object').columns\n",
        "for col in categorical_cols:\n",
        "    if df_processed[col].isnull().any():\n",
        "        mode_val = df_processed[col].mode()[0]\n",
        "        df_processed.loc[:, col] = df_processed[col].fillna(mode_val)\n",
        "\n",
        "# kami menggunakan One-Hot Encoding untuk semua fitur/kolom kategorikal agar mengubah data kategorikal (yang berbentuk teks atau label) menjadi format numerik (angka 0 dan 1) agar bisa dipahami oleh model machine learning.\n",
        "categorical_cols_to_encode = df_processed.select_dtypes(include=['object']).columns\n",
        "\n",
        "# df_final adalah data bersih kami. Variabel ini adalah hasil setelah kami melakukan semua langkah pembersihan pada df: membuang kolom tidak perlu, membersihkan outlier harga, mengubah tipe data, dan menangani semua nilai yang hilang (imputasi).\n",
        "df_final = pd.get_dummies(df_processed, columns=categorical_cols_to_encode, drop_first=True)\n",
        "\n",
        "print(f\"\\nPra-pemrosesan selesai. Bentuk data final: {df_final.shape}\")\n",
        "\n",
        "#berikut informasi data yang sudah selesai\n",
        "df_final.info()"
      ],
      "metadata": {
        "colab": {
          "base_uri": "https://localhost:8080/"
        },
        "id": "q6EJ8fSUQhVK",
        "outputId": "8eb5dde7-67fb-41d1-ca44-e9547355e1ef"
      },
      "execution_count": 110,
      "outputs": [
        {
          "output_type": "stream",
          "name": "stdout",
          "text": [
            "\n",
            "Pra-pemrosesan selesai. Bentuk data final: (21244, 968)\n",
            "<class 'pandas.core.frame.DataFrame'>\n",
            "Index: 21244 entries, 0 to 36321\n",
            "Columns: 968 entries, id to instant_bookable_t\n",
            "dtypes: bool(929), float64(17), int64(22)\n",
            "memory usage: 25.3 MB\n"
          ]
        }
      ]
    },
    {
      "cell_type": "code",
      "source": [
        "# BAGIAN 2: PERSIAPAN AKHIR DATA UNTUK MODELING\n",
        "# --- 2.1 Pisahkan Fitur (X) dan Label (y) & Transformasi Log ---\n",
        "\n",
        "# X berisi semua kolom dari df_final kecuali kolom harga (price). X berisi semua informasi yang akan digunakan untuk membuat prediksi.\n",
        "X = df_final.drop('price', axis=1)\n",
        "\n",
        "# y berisi harga yang telah ditransformasi secara logaritmik (np.log1p(price)). Transformasi ini dilakukan agar distribusi harga menjadi lebih normal, yang membantu model belajar lebih baik.\n",
        "y = np.log1p(df_final['price'])\n",
        "\n",
        "# --- Visualisasi Label Setelah Transformasi Log ---\n",
        "plt.figure(figsize=(10, 6))\n",
        "sns.histplot(y, bins=50, kde=True)\n",
        "plt.title('Distribusi Label Harga Setelah Transformasi Log (Bentuk Lebih Normal)')\n",
        "plt.xlabel('Log(1 + Harga)')\n",
        "plt.show()"
      ],
      "metadata": {
        "colab": {
          "base_uri": "https://localhost:8080/",
          "height": 564
        },
        "id": "NCCHeeRgQqCc",
        "outputId": "3297b824-3509-4c20-86cc-8f38662aeadc"
      },
      "execution_count": 111,
      "outputs": [
        {
          "output_type": "display_data",
          "data": {
            "text/plain": [
              "<Figure size 1000x600 with 1 Axes>"
            ],
            "image/png": "[encoded data removed]"
          },
          "metadata": {}
        }
      ]
    },
    {
      "cell_type": "code",
      "source": [
        "# --- 2.2 Bagi Data & Lakukan Penskalaan (Normalisasi) ---\n",
        "X_train, X_test, y_train, y_test = train_test_split(X, y, test_size=0.2, random_state=42)\n",
        "scaler = StandardScaler()\n",
        "X_train = pd.DataFrame(scaler.fit_transform(X_train), columns=X.columns)\n",
        "X_test = pd.DataFrame(scaler.transform(X_test), columns=X.columns)"
      ],
      "metadata": {
        "id": "jE4b80oSQswn"
      },
      "execution_count": 112,
      "outputs": []
    },
    {
      "cell_type": "code",
      "source": [
        "# BAGIAN 3: ANALISIS SELEKSI FITUR (MENCARI METODE SELEKSI TERBAIK)\n",
        "# List untuk menyimpan hasil perbandingan\n",
        "comparison_results = []\n",
        "\n",
        "\n",
        "# 1. Baseline - Menggunakan Semua Fitur. kami menggunakan model linear regression yang berfungsi sebagai tolak ukur metode seleksi yang lain\n",
        "print(\"--- 1. Menghitung Baseline (Semua Fitur) ---\")\n",
        "lr_baseline = LinearRegression()\n",
        "lr_baseline.fit(X_train, y_train)\n",
        "y_pred_baseline = lr_baseline.predict(X_test)\n",
        "r2_baseline = r2_score(y_test, y_pred_baseline)\n",
        "comparison_results.append({\n",
        "    'Metode Seleksi': 'Baseline (Semua Fitur)',\n",
        "    'Jumlah Fitur': X_train.shape[1],\n",
        "    'R-squared Score': r2_baseline\n",
        "})\n",
        "print(f\"R-squared Baseline: {r2_baseline:.4f}\\n\")\n",
        "\n",
        "\n",
        "# 2. Analisis dengan Lasso. Semakin tinggi nilai alpha, semakin sedikit fitur yang terpilih\n",
        "print(\"--- 2. Menganalisis untuk Lasso ---\")\n",
        "alphas_to_test = [0.001, 0.005, 0.01, 0.015, 0.02, 0.03]\n",
        "\n",
        "for alpha_val in alphas_to_test:\n",
        "    # Latih model Lasso untuk mendapatkan jumlah fitur\n",
        "    lasso_model = Lasso(alpha=alpha_val, random_state=42)\n",
        "    lasso_model.fit(X_train, y_train)\n",
        "    num_features = np.sum(lasso_model.coef_ != 0)\n",
        "\n",
        "    # Latih Linear Regression pada fitur yang dipilih Lasso\n",
        "    selected_cols = X_train.columns[lasso_model.coef_ != 0]\n",
        "    lr_on_lasso = LinearRegression()\n",
        "    lr_on_lasso.fit(X_train[selected_cols], y_train)\n",
        "    y_pred = lr_on_lasso.predict(X_test[selected_cols])\n",
        "    r2 = r2_score(y_test, y_pred)\n",
        "\n",
        "    comparison_results.append({\n",
        "        'Metode Seleksi': f\"Lasso (alpha={alpha_val})\",\n",
        "        'Jumlah Fitur': num_features,\n",
        "        'R-squared Score': r2\n",
        "    })\n",
        "    print(f\"Alpha: {alpha_val:<7} | Fitur Terpilih: {num_features:<4} | R-squared: {r2:.4f}\")\n",
        "print(\"\")"
      ],
      "metadata": {
        "colab": {
          "base_uri": "https://localhost:8080/"
        },
        "id": "UUOtrNNDQvfi",
        "outputId": "d6f27677-1889-4ea3-aa2c-e0157a33d24d"
      },
      "execution_count": 113,
      "outputs": [
        {
          "output_type": "stream",
          "name": "stdout",
          "text": [
            "--- 1. Menghitung Baseline (Semua Fitur) ---\n",
            "R-squared Baseline: 0.7794\n",
            "\n",
            "--- 2. Menganalisis untuk Lasso ---\n",
            "Alpha: 0.001   | Fitur Terpilih: 706  | R-squared: 0.7801\n",
            "Alpha: 0.005   | Fitur Terpilih: 284  | R-squared: 0.7764\n",
            "Alpha: 0.01    | Fitur Terpilih: 136  | R-squared: 0.7714\n",
            "Alpha: 0.015   | Fitur Terpilih: 74   | R-squared: 0.7636\n",
            "Alpha: 0.02    | Fitur Terpilih: 54   | R-squared: 0.7551\n",
            "Alpha: 0.03    | Fitur Terpilih: 40   | R-squared: 0.7465\n",
            "\n"
          ]
        }
      ]
    },
    {
      "cell_type": "code",
      "source": [
        "# ==============================================================================\n",
        "# 3. Langkah Tambahan: Seleksi Fitur dengan Random Forest Importance\n",
        "# ==============================================================================\n",
        "print(\"--- 3. Seleksi Fitur dengan Random Forest Importance ---\")\n",
        "\n",
        "# Latih model Random Forest pada semua fitur\n",
        "rf_for_importance = RandomForestRegressor(n_estimators=100, random_state=42, n_jobs=-1)\n",
        "rf_for_importance.fit(X_train, y_train)\n",
        "\n",
        "# Buat Series untuk melihat fitur mana yang paling penting\n",
        "feature_importances = pd.Series(rf_for_importance.feature_importances_, index=X_train.columns)\n",
        "feature_importances = feature_importances.sort_values(ascending=False)\n",
        "\n",
        "# Pilih N fitur teratas (misalnya, kita ambil 100 fitur teratas)\n",
        "N_TOP_FEATURES = 40\n",
        "selected_cols_rf = feature_importances.head(N_TOP_FEATURES).index.tolist()\n",
        "\n",
        "# Latih Linear Regression pada fitur yang dipilih Random Forest\n",
        "X_train_rf = X_train[selected_cols_rf]\n",
        "X_test_rf = X_test[selected_cols_rf]\n",
        "lr_on_rf = LinearRegression()\n",
        "lr_on_rf.fit(X_train_rf, y_train)\n",
        "y_pred_rf = lr_on_rf.predict(X_test_rf)\n",
        "r2_rf = r2_score(y_test, y_pred_rf)\n",
        "\n",
        "comparison_results.append({\n",
        "    'Metode Seleksi': f\"Random Forest (Top {N_TOP_FEATURES})\",\n",
        "    'Jumlah Fitur': N_TOP_FEATURES,\n",
        "    'R-squared Score': r2_rf\n",
        "})\n",
        "print(f\"Fitur Terpilih: {N_TOP_FEATURES} | R-squared: {r2_rf:.4f}\\n\")"
      ],
      "metadata": {
        "colab": {
          "base_uri": "https://localhost:8080/"
        },
        "id": "1sqaZzapXSm4",
        "outputId": "bddcd187-589b-44c6-f0cd-0054e176c478"
      },
      "execution_count": 114,
      "outputs": [
        {
          "output_type": "stream",
          "name": "stdout",
          "text": [
            "--- 3. Seleksi Fitur dengan Random Forest Importance ---\n",
            "Fitur Terpilih: 40 | R-squared: 0.6881\n",
            "\n"
          ]
        }
      ]
    },
    {
      "cell_type": "code",
      "source": [
        "# ==============================================================================\n",
        "# Rangkuman Hasil Akhir\n",
        "# ==============================================================================\n",
        "summary_df = pd.DataFrame(comparison_results)\n",
        "summary_df = summary_df.sort_values(by='R-squared Score', ascending=False)\n",
        "\n",
        "print(\"--- Rangkuman Perbandingan Hasil Seleksi Fitur ---\")\n",
        "print(summary_df.to_string(index=False))"
      ],
      "metadata": {
        "colab": {
          "base_uri": "https://localhost:8080/"
        },
        "id": "3YnlgwpQXmAz",
        "outputId": "1e9f13bb-a837-4c01-e918-58e2eb64747b"
      },
      "execution_count": 115,
      "outputs": [
        {
          "output_type": "stream",
          "name": "stdout",
          "text": [
            "--- Rangkuman Perbandingan Hasil Seleksi Fitur ---\n",
            "        Metode Seleksi  Jumlah Fitur  R-squared Score\n",
            "   Lasso (alpha=0.001)           706         0.780090\n",
            "Baseline (Semua Fitur)           967         0.779442\n",
            "   Lasso (alpha=0.005)           284         0.776419\n",
            "    Lasso (alpha=0.01)           136         0.771415\n",
            "   Lasso (alpha=0.015)            74         0.763587\n",
            "    Lasso (alpha=0.02)            54         0.755075\n",
            "    Lasso (alpha=0.03)            40         0.746492\n",
            "Random Forest (Top 40)            40         0.688100\n"
          ]
        }
      ]
    },
    {
      "cell_type": "code",
      "source": [
        "# --- 3.1 Buat Keputusan Metode Seleksi Terbaik ---\n",
        "# Berdasarkan tabel di atas, kami memilih Lasso dengan alpha 0.01\n",
        "# karena jumlah fitur yang lebih sedikit dengan nilai R-squared yang tidak begitu jauh dari metode dengan score tertinggi\n",
        "best_alpha = 0.01\n",
        "print(f\"\\nAlpha yang dipilih untuk seleksi fitur final: {best_alpha}\")\n"
      ],
      "metadata": {
        "colab": {
          "base_uri": "https://localhost:8080/"
        },
        "id": "xQ0e8WzhU14W",
        "outputId": "dea2ff8c-c5c5-410e-932c-f242131be6b6"
      },
      "execution_count": 116,
      "outputs": [
        {
          "output_type": "stream",
          "name": "stdout",
          "text": [
            "\n",
            "Alpha yang dipilih untuk seleksi fitur final: 0.01\n"
          ]
        }
      ]
    },
    {
      "cell_type": "code",
      "source": [
        "# ==============================================================================\n",
        "# BAGIAN 4: SELEKSI FITUR FINAL & EVALUASI MODEL UNGGULAN\n",
        "# ==============================================================================\n",
        "final_lasso_selector = SelectFromModel(Lasso(alpha=best_alpha, random_state=42))\n",
        "final_lasso_selector.fit(X_train, y_train)\n",
        "\n",
        "# 'selected_cols_final' adalah list yang berisi nama-nama kolom (fitur) yang berhasil lolos dari seleksi Lasso.\n",
        "selected_cols_final = X_train.columns[(final_lasso_selector.get_support())]\n",
        "\n",
        "# Buat dataset final\n",
        "X_train_final = X_train[selected_cols_final]\n",
        "X_test_final = X_test[selected_cols_final]\n",
        "\n",
        "print(f\"Jumlah fitur final yang akan digunakan: {len(selected_cols_final)}\")\n",
        "\n",
        "# --- Menampilkan Daftar Fitur ---\n",
        "print(\"\\n=== Daftar Fitur Pilihan Final ===\")\n",
        "print(selected_cols_final.tolist())"
      ],
      "metadata": {
        "colab": {
          "base_uri": "https://localhost:8080/"
        },
        "id": "KQLjCScRRQi4",
        "outputId": "0bd28929-b3d7-4443-e4e4-7a6b57ce0c73"
      },
      "execution_count": 117,
      "outputs": [
        {
          "output_type": "stream",
          "name": "stdout",
          "text": [
            "Jumlah fitur final yang akan digunakan: 136\n",
            "\n",
            "=== Daftar Fitur Pilihan Final ===\n",
            "['host_total_listings_count', 'latitude', 'longitude', 'accommodates', 'bedrooms', 'beds', 'minimum_minimum_nights', 'availability_30', 'availability_60', 'estimated_occupancy_l365d', 'estimated_revenue_l365d', 'review_scores_rating', 'review_scores_cleanliness', 'review_scores_location', 'calculated_host_listings_count_entire_homes', 'calculated_host_listings_count_private_rooms', 'calculated_host_listings_count_shared_rooms', 'host_response_time_within an hour', 'host_response_rate_100%', 'host_response_rate_35%', 'host_response_rate_43%', 'host_response_rate_47%', 'host_response_rate_79%', 'host_response_rate_80%', 'host_response_rate_86%', 'host_response_rate_92%', 'host_response_rate_95%', 'host_acceptance_rate_100%', 'host_acceptance_rate_33%', 'host_acceptance_rate_47%', 'host_acceptance_rate_52%', 'host_acceptance_rate_55%', 'host_acceptance_rate_61%', 'host_acceptance_rate_62%', 'host_acceptance_rate_64%', 'host_acceptance_rate_69%', 'host_acceptance_rate_76%', 'host_acceptance_rate_84%', 'host_acceptance_rate_85%', 'host_acceptance_rate_90%', 'host_acceptance_rate_96%', 'host_acceptance_rate_97%', 'host_acceptance_rate_98%', 'host_acceptance_rate_99%', 'host_is_superhost_t', 'host_neighbourhood_Baychester', 'host_neighbourhood_Bergen-Lafayette', 'host_neighbourhood_Boerum Hill', 'host_neighbourhood_Bridge Plaza', 'host_neighbourhood_Brooklyn Heights', 'host_neighbourhood_Central City', 'host_neighbourhood_Central LA', 'host_neighbourhood_Chelsea', 'host_neighbourhood_Clearwater Beach', 'host_neighbourhood_Clinton Hill', 'host_neighbourhood_Downtown Brooklyn', 'host_neighbourhood_Downtown Jersey City', 'host_neighbourhood_East Bronx', 'host_neighbourhood_East New York', 'host_neighbourhood_Elmhurst', 'host_neighbourhood_Financial District', 'host_neighbourhood_Gramercy Park', 'host_neighbourhood_Greenpoint', 'host_neighbourhood_Hollywood Hills West', 'host_neighbourhood_Journal Square', 'host_neighbourhood_Lefferts Garden', 'host_neighbourhood_Long Island City', 'host_neighbourhood_McGinley Square', 'host_neighbourhood_Miami Beach', 'host_neighbourhood_Mid-Beach', 'host_neighbourhood_Midtown East', 'host_neighbourhood_Northeast Washington', 'host_neighbourhood_Park Slope', 'host_neighbourhood_Pastures', 'host_neighbourhood_Pennsport', 'host_neighbourhood_South Beach', 'host_neighbourhood_Sturbridge', 'host_neighbourhood_Sunset Park', 'host_neighbourhood_The Rockaways', 'host_neighbourhood_West Los Angeles', 'host_neighbourhood_Williamsburg', 'neighbourhood_cleansed_Arverne', 'neighbourhood_cleansed_Bay Ridge', 'neighbourhood_cleansed_Boerum Hill', 'neighbourhood_cleansed_Borough Park', 'neighbourhood_cleansed_Brighton Beach', 'neighbourhood_cleansed_Brooklyn Heights', 'neighbourhood_cleansed_Carroll Gardens', 'neighbourhood_cleansed_Chelsea', 'neighbourhood_cleansed_Clinton Hill', 'neighbourhood_cleansed_Cobble Hill', 'neighbourhood_cleansed_Crown Heights', 'neighbourhood_cleansed_Cypress Hills', 'neighbourhood_cleansed_Downtown Brooklyn', 'neighbourhood_cleansed_East Flatbush', 'neighbourhood_cleansed_East Harlem', 'neighbourhood_cleansed_Flatiron District', 'neighbourhood_cleansed_Fordham', 'neighbourhood_cleansed_Fort Greene', 'neighbourhood_cleansed_Fort Hamilton', 'neighbourhood_cleansed_Greenpoint', 'neighbourhood_cleansed_Greenwich Village', 'neighbourhood_cleansed_Harlem', 'neighbourhood_cleansed_Inwood', 'neighbourhood_cleansed_Long Island City', 'neighbourhood_cleansed_Midtown', 'neighbourhood_cleansed_Morningside Heights', 'neighbourhood_cleansed_Mount Hope', 'neighbourhood_cleansed_Murray Hill', 'neighbourhood_cleansed_Park Slope', 'neighbourhood_cleansed_Prospect Heights', 'neighbourhood_cleansed_SoHo', 'neighbourhood_cleansed_Theater District', 'neighbourhood_cleansed_Tribeca', 'neighbourhood_cleansed_Vinegar Hill', 'neighbourhood_cleansed_Wakefield', 'neighbourhood_cleansed_Washington Heights', 'neighbourhood_cleansed_West Village', 'neighbourhood_cleansed_Williamsbridge', 'neighbourhood_cleansed_Williamsburg', 'neighbourhood_group_cleansed_Manhattan', 'neighbourhood_group_cleansed_Staten Island', 'property_type_Entire condo', 'property_type_Entire loft', 'property_type_Entire serviced apartment', 'property_type_Entire townhouse', 'property_type_Houseboat', 'property_type_Private room in bed and breakfast', 'property_type_Private room in home', 'property_type_Private room in rental unit', 'property_type_Private room in resort', 'property_type_Room in boutique hotel', 'property_type_Room in hotel', 'property_type_Shared room in loft', 'property_type_Shared room in rental unit', 'room_type_Private room']\n"
          ]
        }
      ]
    },
    {
      "cell_type": "code",
      "source": [
        "# --- 4.1 Melatih dan Mengevaluasi Model-model Unggulan ---\n",
        "print(\"\\n--- Melatih Semua Model Unggulan pada Fitur Pilihan Final ---\")\n",
        "models_to_evaluate = {\n",
        "    'Ridge Regression': Ridge(),\n",
        "    'Random Forest': RandomForestRegressor(random_state=42, n_jobs=-1),\n",
        "    'XGBoost': XGBRegressor(random_state=42, n_jobs=-1),\n",
        "    'LightGBM': LGBMRegressor(random_state=42, n_jobs=-1)\n",
        "}\n",
        "final_results = []\n",
        "for name, model in models_to_evaluate.items():\n",
        "    print(f\"Melatih {name}...\")\n",
        "    model.fit(X_train_final, y_train)\n",
        "\n",
        "    # Prediksi mentah dari model, masih dalam skala logaritmik.\n",
        "    y_pred_log = model.predict(X_test_final)\n",
        "\n",
        "    # 1. Hitung error dalam skala logaritmik\n",
        "    mae_log = mean_absolute_error(y_test, y_pred_log)\n",
        "    rmse_log = np.sqrt(mean_squared_error(y_test, y_pred_log))\n",
        "\n",
        "    # 2. Kembalikan ke skala Dolar dan hitung errornya\n",
        "    y_pred_dollar = np.expm1(y_pred_log)\n",
        "    y_test_dollar = np.expm1(y_test)\n",
        "    mae_dollar = mean_absolute_error(y_test_dollar, y_pred_dollar)\n",
        "    rmse_dollar = np.sqrt(mean_squared_error(y_test_dollar, y_pred_dollar))\n",
        "\n",
        "    # 3. Simpan semua hasil metrik\n",
        "    final_results.append([name, mae_dollar, rmse_dollar, mae_log, rmse_log])\n",
        "\n",
        "# Buat DataFrame dengan kolom-kolom baru\n",
        "final_results_df = pd.DataFrame(\n",
        "    final_results,\n",
        "    columns=['Model', 'MAE ($)', 'RMSE ($)', 'MAE (log)', 'RMSE (log)']\n",
        ").sort_values(by='MAE ($)')\n",
        "\n",
        "# --- PERUBAHAN SELESAI DI SINI ---\n",
        "\n",
        "print(\"\\n--- Peringkat Model Final (dengan Perbandingan Skala) ---\")\n",
        "print(final_results_df.to_string(index=False))"
      ],
      "metadata": {
        "colab": {
          "base_uri": "https://localhost:8080/"
        },
        "id": "kTbzvlkNRUIM",
        "outputId": "d81baf92-eb35-4a3a-8de5-8427608fb96e"
      },
      "execution_count": 123,
      "outputs": [
        {
          "output_type": "stream",
          "name": "stdout",
          "text": [
            "\n",
            "--- Melatih Semua Model Unggulan pada Fitur Pilihan Final ---\n",
            "Melatih Ridge Regression...\n",
            "Melatih Random Forest...\n",
            "Melatih XGBoost...\n",
            "Melatih LightGBM...\n",
            "[LightGBM] [Warning] Found whitespace in feature_names, replace with underlines\n",
            "[LightGBM] [Info] Auto-choosing row-wise multi-threading, the overhead of testing was 0.010455 seconds.\n",
            "You can set `force_row_wise=true` to remove the overhead.\n",
            "And if memory is not enough, you can set `force_col_wise=true`.\n",
            "[LightGBM] [Info] Total Bins 1749\n",
            "[LightGBM] [Info] Number of data points in the train set: 16995, number of used features: 118\n",
            "[LightGBM] [Info] Start training from score 5.066710\n",
            "\n",
            "--- Peringkat Model Final (dengan Perbandingan Skala) ---\n",
            "           Model   MAE ($)   RMSE ($)  MAE (log)  RMSE (log)\n",
            "         XGBoost 45.145706 117.419582   0.183070    0.281871\n",
            "   Random Forest 45.813780 121.297857   0.187834    0.295104\n",
            "        LightGBM 46.432842 119.650878   0.188259    0.285244\n",
            "Ridge Regression 68.093411 281.246481   0.275598    0.371487\n"
          ]
        }
      ]
    },
    {
      "cell_type": "code",
      "source": [
        "# ==============================================================================\n",
        "# BAGIAN 5: MENENTUKAN & MENYIMPAN MODEL JUARA UNTUK DEPLOYMENT\n",
        "# ==============================================================================\n",
        "# --- 5.1 Pilih Model Juara Anda ---\n",
        "# Berdasarkan tabel di atas, model dengan MAE terendah adalah juaranya.\n",
        "\n",
        "champion_model_name = final_results_df.iloc[0]['Model']\n",
        "print(f\"\\nModel juara yang dipilih adalah: {champion_model_name}\")"
      ],
      "metadata": {
        "colab": {
          "base_uri": "https://localhost:8080/"
        },
        "id": "59-e7dIxRdiW",
        "outputId": "eb480d4f-b61b-4d6a-f65a-1284c1c93d02"
      },
      "execution_count": 119,
      "outputs": [
        {
          "output_type": "stream",
          "name": "stdout",
          "text": [
            "\n",
            "Model juara yang dipilih adalah: XGBoost\n"
          ]
        }
      ]
    },
    {
      "cell_type": "markdown",
      "source": [
        "Model XGBoost secara konsisten menunjukkan performa terbaik di antara semua model yang diuji. Dengan Mean Absolute Error (MAE) sebesar $45.14, model ini memiliki tingkat kesalahan rata-rata terendah dalam memprediksi harga sewa properti. Ini menjadikannya model pilihan utama kami untuk tahap penerapan."
      ],
      "metadata": {
        "id": "3LEyCyWN07DK"
      }
    },
    {
      "cell_type": "code",
      "execution_count": 120,
      "metadata": {
        "colab": {
          "base_uri": "https://localhost:8080/"
        },
        "id": "lLgrodIuOcIw",
        "outputId": "c57d4bc8-24f2-4b7a-9625-1db2c720cc96"
      },
      "outputs": [
        {
          "output_type": "stream",
          "name": "stdout",
          "text": [
            "Melatih kembali model juara pada seluruh data training...\n",
            "Model juara selesai dilatih.\n"
          ]
        }
      ],
      "source": [
        "# --- 5.2 Latih Kembali Model Juara pada Seluruh Data Training & Simpan ---\n",
        "print(\"Melatih kembali model juara pada seluruh data training...\")\n",
        "# Inisialisasi model juara sesuai namanya\n",
        "if champion_model_name == 'XGBoost':\n",
        "    champion_model = XGBRegressor(random_state=42, n_jobs=-1)\n",
        "elif champion_model_name == 'LightGBM':\n",
        "    champion_model = LGBMRegressor(random_state=42, n_jobs=-1)\n",
        "elif champion_model_name == 'Random Forest':\n",
        "    champion_model = RandomForestRegressor(random_state=42, n_jobs=-1)\n",
        "else: # Ridge\n",
        "    champion_model = Ridge()\n",
        "\n",
        "# Latih pada data dengan fitur yang sudah diseleksi\n",
        "champion_model.fit(X_train_final, y_train)\n",
        "print(\"Model juara selesai dilatih.\")"
      ]
    },
    {
      "cell_type": "code",
      "source": [
        "# --- Simpan model dan scaler untuk aplikasi Streamlit ---\n",
        "joblib.dump(champion_model, 'final_model.joblib')\n",
        "joblib.dump(scaler, 'scaler.joblib')\n",
        "joblib.dump(selected_cols_final.to_list(), 'final_model_features.joblib')\n",
        "joblib.dump(X_train.columns.to_list(), 'all_scaler_features.joblib')\n",
        "print(\"\\nModel juara, scaler, dan daftar fitur telah disimpan. Siap untuk deployment!\")"
      ],
      "metadata": {
        "colab": {
          "base_uri": "https://localhost:8080/"
        },
        "id": "UGIH46dYPSc8",
        "outputId": "758b01ea-5f7a-4a13-a216-cd41cc8a2779"
      },
      "execution_count": 121,
      "outputs": [
        {
          "output_type": "stream",
          "name": "stdout",
          "text": [
            "\n",
            "Model juara, scaler, dan daftar fitur telah disimpan. Siap untuk deployment!\n"
          ]
        }
      ]
    },
    {
      "cell_type": "code",
      "source": [
        "# TAMBAHAN\n",
        "# Membuat pemetaan wilayah pada kota New York dengan 4 fitur/kolom ini: 'neighbourhood_group_cleansed', 'neighbourhood_cleansed', 'latitude', 'longitude'\n",
        "required_cols = ['neighbourhood_group_cleansed', 'neighbourhood_cleansed', 'latitude', 'longitude']\n",
        "if not all(col in df.columns for col in required_cols):\n",
        "    print(\"Error: Kolom yang dibutuhkan tidak ditemukan di DataFrame asli.\")\n",
        "else:\n",
        "    # Kelompokkan data untuk mendapatkan batas min/max untuk setiap lingkungan\n",
        "    geo_bounds = df.groupby(['neighbourhood_group_cleansed', 'neighbourhood_cleansed']).agg(\n",
        "        lat_min=('latitude', 'min'),\n",
        "        lat_max=('latitude', 'max'),\n",
        "        lon_min=('longitude', 'min'),\n",
        "        lon_max=('longitude', 'max')\n",
        "    ).reset_index()\n",
        "\n",
        "    # Buat struktur dictionary bersarang (nested dictionary)\n",
        "    geo_data = {}\n",
        "    for _, row in geo_bounds.iterrows():\n",
        "        borough = row['neighbourhood_group_cleansed']\n",
        "        neighbourhood = row['neighbourhood_cleansed']\n",
        "\n",
        "        if borough not in geo_data:\n",
        "            geo_data[borough] = {}\n",
        "\n",
        "        geo_data[borough][neighbourhood] = {\n",
        "            'lat_min': row['lat_min'],\n",
        "            'lat_max': row['lat_max'],\n",
        "            'lon_min': row['lon_min'],\n",
        "            'lon_max': row['lon_max']\n",
        "        }\n",
        "\n",
        "    # Simpan dictionary sebagai file JSON\n",
        "    with open('geo_data.json', 'w') as f:\n",
        "        json.dump(geo_data, f, indent=4)\n",
        "\n",
        "    print(\"File 'geo_data.json' berhasil dibuat!\")"
      ],
      "metadata": {
        "colab": {
          "base_uri": "https://localhost:8080/"
        },
        "id": "3opOXOnjkIbL",
        "outputId": "831f969f-62b8-4563-9447-75e5d25bf8c2"
      },
      "execution_count": 122,
      "outputs": [
        {
          "output_type": "stream",
          "name": "stdout",
          "text": [
            "File 'geo_data.json' berhasil dibuat!\n"
          ]
        }
      ]
    }
  ]
}